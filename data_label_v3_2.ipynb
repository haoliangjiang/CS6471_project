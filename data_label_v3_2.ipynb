{
  "nbformat": 4,
  "nbformat_minor": 0,
  "metadata": {
    "colab": {
      "name": "ata_label_v3_2.ipynb",
      "provenance": [],
      "collapsed_sections": []
    },
    "kernelspec": {
      "display_name": "Python 3",
      "language": "python",
      "name": "python3"
    },
    "language_info": {
      "codemirror_mode": {
        "name": "ipython",
        "version": 3
      },
      "file_extension": ".py",
      "mimetype": "text/x-python",
      "name": "python",
      "nbconvert_exporter": "python",
      "pygments_lexer": "ipython3",
      "version": "3.8.5"
    }
  },
  "cells": [
    {
      "cell_type": "code",
      "metadata": {
        "colab": {
          "base_uri": "https://localhost:8080/"
        },
        "id": "bPitvFAzFNKL",
        "outputId": "4817efbc-b56c-4c8b-904d-2a61095c8928"
      },
      "source": [
        "from google.colab import drive\n",
        "drive.mount('/content/drive')\n",
        "%cd drive/MyDrive/cs6471proj2/amazon\n",
        "# from IPython.display import clear_output"
      ],
      "execution_count": null,
      "outputs": [
        {
          "output_type": "stream",
          "text": [
            "Mounted at /content/drive\n",
            "/content/drive/MyDrive/cs6471proj2/amazon\n"
          ],
          "name": "stdout"
        }
      ]
    },
    {
      "cell_type": "markdown",
      "metadata": {
        "id": "QEht1zbW3nWC"
      },
      "source": [
        "## example code for label"
      ]
    },
    {
      "cell_type": "code",
      "metadata": {
        "id": "oBBdSRB1E_rb"
      },
      "source": [
        "import json\n",
        "import re\n",
        "import os\n",
        "\n",
        "def load_file(path2file):\n",
        "    file_handle = open(path2file, 'r')\n",
        "    file = json.load(file_handle)\n",
        "    file_handle.close()\n",
        "    return file\n",
        "\n",
        "def remove_multiple_spaces(string):\n",
        "\treturn re.sub(r'\\s+', ' ', string).strip()\n",
        "\n",
        "def save_log(log_, path2save):\n",
        "    file_handle = open('/'.join([path2save, 'complete_idx_label.json']), 'r')\n",
        "    file = json.load(file_handle)\n",
        "    file_handle.close()\n",
        "    for key, item in log_.items():\n",
        "        file[key] = item\n",
        "    file_handle = open('/'.join([path2save, 'complete_idx_label.json']), 'w')\n",
        "    file = json.dump(file, file_handle)\n",
        "    file_handle.close()\n",
        "\n",
        "    print('%d SAMPLES LABELED AND SAVED'%len(list(log_.keys())))\n",
        "\n",
        "    return {}\n",
        "    \n",
        "\n",
        "# input name\n",
        "while(1):\n",
        "    input_name = remove_multiple_spaces(input('Input 1.Ruiqi, 2.Zexing, 3.Haoliang > '))\n",
        "    if input_name in ['1', '2', '3']:\n",
        "        break\n",
        "    print('PLEASE ENTER 1, 2, 3')\n",
        "# input_name = '3'\n",
        "name_dict = {'1':'Ruiqi', '2':'Zexing', '3':'Haoliang'}\n",
        "print('WECOME, ', name_dict[input_name])\n",
        "\n",
        "# open folders\n",
        "path2newfiles = 'purpose_classification'\n",
        "save_path = '/'.join([path2newfiles, name_dict[input_name]])\n",
        "if not os.path.exists(save_path):\n",
        "    os.makedirs(save_path)\n",
        "\n",
        "# load files\n",
        "idx2data = load_file('/'.join([path2newfiles, 'global_country_idx2data.json']))\n",
        "common_country_sample_idx = load_file('/'.join([path2newfiles, 'common_country_sample_idx.json']))\n",
        "token = load_file('/'.join([path2newfiles, 'global_country_token.json']))\n",
        "pos = load_file('/'.join([path2newfiles, 'global_country_data.json']))\n",
        "ind_idx = load_file('/'.join([save_path, 'ind_idx.json']))\n",
        "complete_idx_label = load_file('/'.join([save_path, 'complete_idx_label.json']))\n",
        "\n",
        "\n",
        "# get uncomplete data\n",
        "complete_idx = [int(key) for key, _ in complete_idx_label.items()]\n",
        "print('NUMBER OF FINISHED LABEL:', len(complete_idx))\n",
        "uncomplete_idx = [int(i) for i in ind_idx if int(i) not in complete_idx]\n",
        "print('NUMBER OF LABEL LEFT:', len(uncomplete_idx))\n",
        "current_log = {}\n",
        "current_c = 0\n",
        "label_candidates = {'1':\"Origin\", '2':\"Attributes\", '3':\"Place of usage\", '4':\"Others\", '5':\"Ignore\"}\n",
        "\n",
        "# start giving questions\n",
        "for global_idx in uncomplete_idx:\n",
        "    current_c += 1\n",
        "    #clear_output(wait=True)\n",
        "    position = pos[str(global_idx)]\n",
        "    review_idx = idx2data[str(global_idx)]\n",
        "    sentence = token[review_idx['category']][str(review_idx['row_idx'])]\n",
        "    print('NEW REVIEW')\n",
        "    print('CATEGORY:', review_idx['category'])\n",
        "    print('ENTIRE REVIEW: ', sentence[1])\n",
        "    print('COUNTRY NAME: ', review_idx['country_name'])\n",
        "    \n",
        "#     from_pos = max(0, int(position['start'])-20)\n",
        "#     end_pos = int(position['end']+20)\n",
        "#     print('SURROUNDING WORDS:', ' '.join(sentence[0][from_pos: end_pos]))\n",
        "    review_token = sentence[0]\n",
        "    for i in range(int(position['end'])-int(position['start'])): \n",
        "        print(review_token[i+int(position['start'])])\n",
        "        review_token[i+int(position['start'])] = '***'+review_token[i+int(position['start'])]+'***'\n",
        "    from_pos = max(0, int(position['start'])-20)\n",
        "    end_pos = int(position['end']+20)\n",
        "    print('SURROUNDING WORDS:', ' '.join(review_token[from_pos: end_pos]))\n",
        "    \n",
        "    print('CHOICES:', label_candidates)\n",
        "    while(1):\n",
        "        input_label = input('Input > ')\n",
        "        input_label = remove_multiple_spaces(input_label)\n",
        "\n",
        "        # if it is a number case\n",
        "        if input_label in label_candidates:\n",
        "            print('SELECTED:', label_candidates[input_label])\n",
        "            current_log[global_idx] = [int(input_label), label_candidates[input_label]]\n",
        "            break\n",
        "\n",
        "        # Check if it is save case\n",
        "        elif input_label == 's' or input_label == 'save':\n",
        "            if len(current_log) > 0:\n",
        "                current_log = save_log(current_log, save_path)\n",
        "\n",
        "        # Check if it is quit case\n",
        "        elif input_label == 'q' or input_label == 'quit': break\n",
        "        else:\n",
        "            print('FAIL TO LABEL THE REVIEW')\n",
        "    \n",
        "    if (current_c+1)%10 == 0:\n",
        "        current_log = save_log(current_log, save_path)\n",
        "\n",
        "    if input_label == 'q' or input_label == 'quit':\n",
        "        if len(list(current_log.keys()))>0:\n",
        "            current_log = save_log(current_log, save_path)\n",
        "        break\n",
        "    "
      ],
      "execution_count": null,
      "outputs": []
    },
    {
      "cell_type": "markdown",
      "metadata": {
        "id": "uHPqIEdp3rDt"
      },
      "source": [
        "## load configurations"
      ]
    },
    {
      "cell_type": "code",
      "metadata": {
        "id": "wzU05tHOZZok"
      },
      "source": [
        "country_worth2lookat = {'china':['china', 'ch'], 'us':['usa', 'us', 'america', 'united states', 'the states'], \n",
        "                      'uk':['uk', 'england', 'britain', 'ireland', 'scotland'], \n",
        "                      'japan':['japan'], 'mexico':['mexico'], 'germany': ['germany'], \n",
        "                      'canada':['canada'], 'india':['india'],  'australia':['australia'], \n",
        "                      'italy':['italy'], 'france':['france'], 'taiwan':['taiwan'], 'vietnam':['vietnam'], \n",
        "                      'thailand':['thailand'], 'brazil':['brazil'], 'korea':['korea'], \n",
        "                      'afghanistan':['afghanistan'], 'spain':['spain'], 'new zealand':['new zealand'], \n",
        "                      'singapore':['singapore'], 'iraq':['iraq'], 'russia':['russia'], 'switzerland':['switzerland']}\n",
        "\n",
        "\n",
        "nationality_worth2lookat = {'american': ['american'], 'english': ['english'], 'german':['german'], \n",
        "                          'chinese':['chinese'], 'british':['british', 'scottish', 'irish'], \n",
        "                          'spanish':['spanish'], 'french':['french'], 'japanese':['japanese'], \n",
        "                          'european':['european'], 'australian':['australian'], \n",
        "                          'african':['african'], 'asian':['asian'], 'italian':['italian'], \n",
        "                          'canadian':['canadian'],  'indian':['indian'], \n",
        "                          'russian':['russian'], 'mexican':['mexican']} # 17\n",
        "\n",
        "# build word2label\n",
        "word2label_country = {}\n",
        "word2label_nationality = {}\n",
        "for key, item in country_worth2lookat.items():\n",
        "    for word in item:\n",
        "        word2label_country[word] = key\n",
        "for key, item in nationality_worth2lookat.items():\n",
        "    for word in item:\n",
        "        word2label_nationality[word] = key\n",
        "\n",
        "path2newfiles = 'purpose_classification'\n",
        "file_handle = open('/'.join([path2newfiles, 'global_country_idx2data.json']), 'r')\n",
        "idx2data = json.load(file_handle)\n",
        "file_handle.close()\n",
        "\n",
        "file_handle = open('/'.join([path2newfiles, 'common_country_sample_idx.json']), 'r')\n",
        "common_country_sample_idx = json.load(file_handle)\n",
        "file_handle.close()\n",
        "\n",
        "file_handle = open('/'.join([path2newfiles, 'global_country_token.json']), 'r')\n",
        "token = json.load(file_handle)\n",
        "file_handle.close()\n",
        "\n",
        "file_handle = open('/'.join([path2newfiles, 'global_country_data.json']), 'r')\n",
        "pos = json.load(file_handle)\n",
        "file_handle.close()\n",
        "\n",
        "file_handle = open('/'.join([path2newfiles, 'global_country2idx.json']), 'r')\n",
        "global_country2idx = json.load(file_handle)\n",
        "file_handle.close()"
      ],
      "execution_count": null,
      "outputs": []
    },
    {
      "cell_type": "markdown",
      "metadata": {
        "id": "QAAbD1Ya32xu"
      },
      "source": [
        "## result analysis"
      ]
    },
    {
      "cell_type": "code",
      "metadata": {
        "id": "5tLECJ7dYQnd"
      },
      "source": [
        "import copy\n",
        "import json\n",
        "\n",
        "# check percetage for each country\n",
        "\n",
        "with open('purpose_classification/complete_idx_label_zexing4.json', 'r') as f:\n",
        "    zexing = json.load(f)\n",
        "with open('purpose_classification/complete_idx_label_ruiqi2.json', 'r') as f:\n",
        "    ruiqi = json.load(f)\n",
        "\n",
        "# idx2country:\n",
        "idx2country = {}\n",
        "for k, item in global_country2idx.items():\n",
        "    for i in item:\n",
        "        idx2country[int(i)] = k\n",
        "    \n",
        "print(len(zexing)+len(ruiqi))\n",
        "total = copy.deepcopy(zexing)\n",
        "for k, item in ruiqi.items():\n",
        "    total[k] = item\n",
        "\n",
        "print(len(total))\n",
        "\n",
        "dict_ = {}\n",
        "for k, item in total.items():\n",
        "    if idx2country[int(k)] not in word2label_country:\n",
        "        print(idx2country[int(k)])\n",
        "        continue\n",
        "    country = word2label_country[idx2country[int(k)]]\n",
        "    if country not in dict_:\n",
        "        dict_[country] = {item[0]:1}\n",
        "    else:\n",
        "        if item[0] not in dict_[country]:\n",
        "            dict_[country][item[0]] = 1\n",
        "        else:\n",
        "            dict_[country][item[0]] += 1\n",
        "\n",
        "print(dict_)\n",
        "\n",
        "tem = 0\n",
        "for c, di in dict_.items():\n",
        "\n"
      ],
      "execution_count": null,
      "outputs": []
    }
  ]
}