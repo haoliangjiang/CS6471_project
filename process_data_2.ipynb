{
  "nbformat": 4,
  "nbformat_minor": 0,
  "metadata": {
    "colab": {
      "name": "process_data.ipynb",
      "provenance": [],
      "collapsed_sections": [],
      "machine_shape": "hm"
    },
    "kernelspec": {
      "name": "python3",
      "display_name": "Python 3"
    },
    "language_info": {
      "name": "python"
    }
  },
  "cells": [
    {
      "cell_type": "code",
      "metadata": {
        "id": "d-EkErGikK_V",
        "colab": {
          "base_uri": "https://localhost:8080/"
        },
        "outputId": "2505f490-674b-43cc-d4a2-303e932f4a3e"
      },
      "source": [
        "from google.colab import drive\n",
        "drive.mount('/content/drive')"
      ],
      "execution_count": null,
      "outputs": [
        {
          "output_type": "stream",
          "text": [
            "Mounted at /content/drive\n"
          ],
          "name": "stdout"
        }
      ]
    },
    {
      "cell_type": "code",
      "metadata": {
        "colab": {
          "base_uri": "https://localhost:8080/"
        },
        "id": "kfedONutlWyg",
        "outputId": "71d5bba3-2cf4-402d-977d-392d79c2d8fb"
      },
      "source": [
        "cd drive/MyDrive/cs6471proj2/amazon"
      ],
      "execution_count": null,
      "outputs": [
        {
          "output_type": "stream",
          "text": [
            "/content/drive/MyDrive/cs6471proj2/amazon\n"
          ],
          "name": "stdout"
        }
      ]
    },
    {
      "cell_type": "code",
      "metadata": {
        "colab": {
          "base_uri": "https://localhost:8080/"
        },
        "id": "mxwR3qLelobr",
        "outputId": "7e155b72-740a-4cdf-af14-03141de9a521"
      },
      "source": [
        "# Install stanza; note that the prefix \"!\" is not needed if you are running in a terminal\n",
        "!pip install stanza\n",
        "\n",
        "# Import stanza\n",
        "import stanza\n",
        "\n",
        "# Download the Stanford CoreNLP package with Stanza's installation command\n",
        "# This'll take several minutes, depending on the network speed\n",
        "corenlp_dir = '../corenlp'\n",
        "# stanza.install_corenlp(dir=corenlp_dir)\n",
        "\n",
        "# Set the CORENLP_HOME environment variable to point to the installation location\n",
        "import os\n",
        "os.environ[\"CORENLP_HOME\"] = corenlp_dir\n",
        "\n",
        "# Examine the CoreNLP installation folder to make sure the installation is successful\n",
        "!ls $CORENLP_HOME\n"
      ],
      "execution_count": null,
      "outputs": [
        {
          "output_type": "stream",
          "text": [
            "Collecting stanza\n",
            "\u001b[?25l  Downloading https://files.pythonhosted.org/packages/50/ae/a70a58ce6b4e2daad538688806ee0f238dbe601954582a74ea57cde6c532/stanza-1.2-py3-none-any.whl (282kB)\n",
            "\r\u001b[K     |█▏                              | 10kB 17.0MB/s eta 0:00:01\r\u001b[K     |██▎                             | 20kB 22.5MB/s eta 0:00:01\r\u001b[K     |███▌                            | 30kB 27.3MB/s eta 0:00:01\r\u001b[K     |████▋                           | 40kB 21.6MB/s eta 0:00:01\r\u001b[K     |█████▉                          | 51kB 14.9MB/s eta 0:00:01\r\u001b[K     |███████                         | 61kB 16.9MB/s eta 0:00:01\r\u001b[K     |████████▏                       | 71kB 14.8MB/s eta 0:00:01\r\u001b[K     |█████████▎                      | 81kB 13.7MB/s eta 0:00:01\r\u001b[K     |██████████▌                     | 92kB 13.7MB/s eta 0:00:01\r\u001b[K     |███████████▋                    | 102kB 12.4MB/s eta 0:00:01\r\u001b[K     |████████████▉                   | 112kB 12.4MB/s eta 0:00:01\r\u001b[K     |██████████████                  | 122kB 12.4MB/s eta 0:00:01\r\u001b[K     |███████████████                 | 133kB 12.4MB/s eta 0:00:01\r\u001b[K     |████████████████▎               | 143kB 12.4MB/s eta 0:00:01\r\u001b[K     |█████████████████▍              | 153kB 12.4MB/s eta 0:00:01\r\u001b[K     |██████████████████▋             | 163kB 12.4MB/s eta 0:00:01\r\u001b[K     |███████████████████▊            | 174kB 12.4MB/s eta 0:00:01\r\u001b[K     |█████████████████████           | 184kB 12.4MB/s eta 0:00:01\r\u001b[K     |██████████████████████          | 194kB 12.4MB/s eta 0:00:01\r\u001b[K     |███████████████████████▎        | 204kB 12.4MB/s eta 0:00:01\r\u001b[K     |████████████████████████▍       | 215kB 12.4MB/s eta 0:00:01\r\u001b[K     |█████████████████████████▋      | 225kB 12.4MB/s eta 0:00:01\r\u001b[K     |██████████████████████████▊     | 235kB 12.4MB/s eta 0:00:01\r\u001b[K     |███████████████████████████▉    | 245kB 12.4MB/s eta 0:00:01\r\u001b[K     |█████████████████████████████   | 256kB 12.4MB/s eta 0:00:01\r\u001b[K     |██████████████████████████████▏ | 266kB 12.4MB/s eta 0:00:01\r\u001b[K     |███████████████████████████████▍| 276kB 12.4MB/s eta 0:00:01\r\u001b[K     |████████████████████████████████| 286kB 12.4MB/s \n",
            "\u001b[?25hRequirement already satisfied: requests in /usr/local/lib/python3.7/dist-packages (from stanza) (2.23.0)\n",
            "Requirement already satisfied: tqdm in /usr/local/lib/python3.7/dist-packages (from stanza) (4.41.1)\n",
            "Requirement already satisfied: torch>=1.3.0 in /usr/local/lib/python3.7/dist-packages (from stanza) (1.8.1+cu101)\n",
            "Requirement already satisfied: numpy in /usr/local/lib/python3.7/dist-packages (from stanza) (1.19.5)\n",
            "Requirement already satisfied: protobuf in /usr/local/lib/python3.7/dist-packages (from stanza) (3.12.4)\n",
            "Requirement already satisfied: idna<3,>=2.5 in /usr/local/lib/python3.7/dist-packages (from requests->stanza) (2.10)\n",
            "Requirement already satisfied: certifi>=2017.4.17 in /usr/local/lib/python3.7/dist-packages (from requests->stanza) (2020.12.5)\n",
            "Requirement already satisfied: urllib3!=1.25.0,!=1.25.1,<1.26,>=1.21.1 in /usr/local/lib/python3.7/dist-packages (from requests->stanza) (1.24.3)\n",
            "Requirement already satisfied: chardet<4,>=3.0.2 in /usr/local/lib/python3.7/dist-packages (from requests->stanza) (3.0.4)\n",
            "Requirement already satisfied: typing-extensions in /usr/local/lib/python3.7/dist-packages (from torch>=1.3.0->stanza) (3.7.4.3)\n",
            "Requirement already satisfied: setuptools in /usr/local/lib/python3.7/dist-packages (from protobuf->stanza) (54.2.0)\n",
            "Requirement already satisfied: six>=1.9 in /usr/local/lib/python3.7/dist-packages (from protobuf->stanza) (1.15.0)\n",
            "Installing collected packages: stanza\n",
            "Successfully installed stanza-1.2\n",
            "build.xml\t\t\t\t  jollyday.jar\n",
            "corenlp.sh\t\t\t\t  LIBRARY-LICENSES\n",
            "CoreNLP-to-HTML.xsl\t\t\t  LICENSE.txt\n",
            "ejml-core-0.39.jar\t\t\t  Makefile\n",
            "ejml-core-0.39-sources.jar\t\t  patterns\n",
            "ejml-ddense-0.39.jar\t\t\t  pom-java-11.xml\n",
            "ejml-ddense-0.39-sources.jar\t\t  pom.xml\n",
            "ejml-simple-0.39.jar\t\t\t  protobuf.jar\n",
            "ejml-simple-0.39-sources.jar\t\t  README.txt\n",
            "input.txt\t\t\t\t  RESOURCE-LICENSES\n",
            "input.txt.out\t\t\t\t  SemgrexDemo.java\n",
            "input.txt.xml\t\t\t\t  ShiftReduceDemo.java\n",
            "javax.activation-api-1.2.0.jar\t\t  slf4j-api.jar\n",
            "javax.activation-api-1.2.0-sources.jar\t  slf4j-simple.jar\n",
            "javax.json-api-1.0-sources.jar\t\t  stanford-corenlp-4.2.0.jar\n",
            "javax.json.jar\t\t\t\t  stanford-corenlp-4.2.0-javadoc.jar\n",
            "jaxb-api-2.4.0-b180830.0359.jar\t\t  stanford-corenlp-4.2.0-models.jar\n",
            "jaxb-api-2.4.0-b180830.0359-sources.jar   stanford-corenlp-4.2.0-sources.jar\n",
            "jaxb-core-2.3.0.1.jar\t\t\t  StanfordCoreNlpDemo.java\n",
            "jaxb-core-2.3.0.1-sources.jar\t\t  StanfordDependenciesManual.pdf\n",
            "jaxb-impl-2.4.0-b180830.0438.jar\t  sutime\n",
            "jaxb-impl-2.4.0-b180830.0438-sources.jar  tokensregex\n",
            "joda-time-2.10.5-sources.jar\t\t  xom-1.3.2-sources.jar\n",
            "joda-time.jar\t\t\t\t  xom.jar\n",
            "jollyday-0.4.9-sources.jar\n"
          ],
          "name": "stdout"
        }
      ]
    },
    {
      "cell_type": "code",
      "metadata": {
        "id": "BNDMhzG93cp0"
      },
      "source": [
        "client.stop()"
      ],
      "execution_count": null,
      "outputs": []
    },
    {
      "cell_type": "code",
      "metadata": {
        "colab": {
          "base_uri": "https://localhost:8080/"
        },
        "id": "DH5Q-7gTlsBR",
        "outputId": "27d93df7-29f2-4fa7-db04-4500c12a00d7"
      },
      "source": [
        "import re\n",
        "import time\n",
        "import glob\n",
        "import json\n",
        "from stanza.server import CoreNLPClient\n",
        "import os\n",
        "\n",
        "\n",
        "def normalize_sentence(s):\n",
        "    s = re.sub(r\"([.!?])\", r\" \\1\", s)\n",
        "    s = re.sub(r\"[^a-zA-Z.!?]+\", r\" \", s)\n",
        "    s = re.sub(r\"\\s+\", r\" \", s).strip()\n",
        "    return s\n",
        "\n",
        "'''\n",
        "The idea here is to build location set, country set, province set, nationality set\n",
        "Also, the dictionary for stats analysis\n",
        "Based on the reviews that have helpfulness scores.\n",
        "'''\n",
        "\n",
        "all_file_glob = glob.glob('*.json')\n",
        "# print(all_file)\n",
        "\n",
        "# all_file = ['reviews_Musical_Instruments_5.json', 'reviews_Office_Products_5.json', 'reviews_Amazon_Instant_Video_5.json', 'reviews_Digital_Music_5.json']\n",
        "# done ['reviews_Musical_Instruments_5.json', 'reviews_Office_Products_5.json', 'reviews_Cell_Phones_and_Accessories_5.json', ]\n",
        "all_file = ['reviews_Toys_and_Games_5.json']\n",
        "\n",
        "# check file exits:\n",
        "for file in all_file:\n",
        "    print(file in all_file_glob)\n",
        "\n",
        "location_titles = set([\"COUNTRY\", 'CITY', 'STATE_OR_PROVINCE', 'LOCATION', 'NATIONALITY'])\n",
        "for name in all_file:\n",
        "    print(name)\n",
        "\n",
        "    # clean the ram for every file\n",
        "    # Construct a CoreNLPClient with some basic annotators, a memory allocation of 4GB, and port number 9001\n",
        "    client = CoreNLPClient(\n",
        "        # annotators=['tokenize','ssplit', 'pos', 'lemma', 'ner'], \n",
        "        annotators=['tokenize','ssplit', 'ner'], \n",
        "        memory='23G', \n",
        "        endpoint='http://localhost:9001',\n",
        "        be_quiet=True)\n",
        "    print(client)\n",
        "    time.sleep(10)\n",
        "\n",
        "    # Start the background server and wait for some time\n",
        "    # Note that in practice this is totally optional, as by default the server will be started when the first annotation is performed\n",
        "    client.start()\n",
        "\n",
        "    country_count = 0\n",
        "    state_count = 0\n",
        "    city_count = 0\n",
        "    county_count = 0\n",
        "    year_stats = {str(i):0 for i in range(1995, 2015, 1)}\n",
        "    country_stats = {}\n",
        "    loc_stats = {}\n",
        "    province_stats = {}\n",
        "    nationaily_stats = {}\n",
        "    country_set = set()\n",
        "    loc_set = set()\n",
        "    province_set = set()\n",
        "    nationaily_set = set()\n",
        "\n",
        "    # things to save\n",
        "    stats = {'COUNTRY':{}, 'CITY':{}, 'STATE_OR_PROVINCE':{}, 'LOCATION':{}, 'NATIONALITY':{},'helpfulness':[], 'year':[], 'overall':{}}\n",
        "    sets = {'COUNTRY':set(), 'CITY':set(), 'STATE_OR_PROVINCE':set(), 'LOCATION':set(),  'NATIONALITY':set()}\n",
        "    helpful_Review_IDs = []\n",
        "    evaluated_Review_IDs = []\n",
        "\n",
        "    folder_path = name.split('.')[0]+'_all'\n",
        "    if not os.path.exists(folder_path):\n",
        "        os.makedirs(folder_path)\n",
        "\n",
        "    outfile = open('/'.join([folder_path, name.split('.')[0]]) + '_feature.json', 'a')\n",
        "    for idx, line in enumerate(open(name, 'r')):\n",
        "        if (idx+1)%5000 == 0: print(idx)\n",
        "\n",
        "        # load line\n",
        "        this_line = json.loads(line)\n",
        "        evaluated_Review_IDs.append(this_line[\"reviewerID\"])\n",
        "        # if this_line['helpful'][1] < 1:  continue\n",
        "        info_line = {\"reviewerID\": this_line[\"reviewerID\"],'COUNTRY':[], 'CITY':[], 'STATE_OR_PROVINCE':[], 'LOCATION':[], 'NATIONALITY':[], 'helpfulness':this_line['helpful'], 'year':this_line['reviewTime'], 'rate':this_line['overall']}\n",
        "        # helpful_Review_IDs.append(this_line[\"reviewerID\"])\n",
        "        stats['year'].append(this_line['reviewTime'].split(\" \")[-1])\n",
        "        stats['helpfulness'].append(this_line['helpful'])\n",
        "        if this_line['overall'] not in stats['overall'].keys():\n",
        "            stats['overall'][this_line['overall']] = 1\n",
        "        else:\n",
        "            stats['overall'][this_line['overall']] += 1\n",
        "\n",
        "        # NER\n",
        "        text = normalize_sentence(this_line['reviewText'])\n",
        "        document = client.annotate(text)\n",
        "        for sent in document.sentence:\n",
        "            for m in sent.mentions:\n",
        "                if m.entityType in location_titles:\n",
        "                    info_line[m.entityType].append(m.entityMentionText) # m.entityMentionText, m.entityTyp = 'GA', 'STATE_OR_PROVINCE'\n",
        "                    if m.entityMentionText not in sets[m.entityType]:\n",
        "                        stats[m.entityType][m.entityMentionText] = [1, set([this_line[\"reviewerID\"]])]\n",
        "                        sets[m.entityType].add(m.entityMentionText)\n",
        "                    else:\n",
        "                        stats[m.entityType][m.entityMentionText][1].add(this_line[\"reviewerID\"])\n",
        "                        stats[m.entityType][m.entityMentionText][0] = len(stats[m.entityType][m.entityMentionText][1])\n",
        "\n",
        "\n",
        "        json.dump(info_line, outfile)\n",
        "        outfile.write('\\n')\n",
        "    \n",
        "    outfile.close()\n",
        "\n",
        "    outfile = open(folder_path+'/'+name.split('.')[0] + '_evaluated_review_ID.json', 'w')\n",
        "    json.dump(evaluated_Review_IDs, outfile)\n",
        "    outfile.close()\n",
        "\n",
        "    # change set to list\n",
        "    for type_ in location_titles:\n",
        "        texts = stats[type_].keys()\n",
        "        for text in texts:\n",
        "            stats[type_][text] = [stats[type_][text][0], list(stats[type_][text][1])]\n",
        "    \n",
        "    outfile = open(folder_path + '/' + name.split('.')[0] + '_stats.json', 'w')\n",
        "    json.dump(stats, outfile)\n",
        "    outfile.close()\n",
        "\n",
        "    # print(stats)\n",
        "    print(sets)\n",
        "    # print(helpful_Review_IDs)\n",
        "\n",
        "    client.stop()\n"
      ],
      "execution_count": null,
      "outputs": [
        {
          "output_type": "stream",
          "text": [
            "2021-04-13 02:04:52 INFO: Writing properties to tmp file: corenlp_server-43f7b8c78c5f4be9.props\n"
          ],
          "name": "stderr"
        },
        {
          "output_type": "stream",
          "text": [
            "True\n",
            "reviews_Toys_and_Games_5.json\n",
            "<stanza.server.client.CoreNLPClient object at 0x7fcd43bff250>\n"
          ],
          "name": "stdout"
        },
        {
          "output_type": "stream",
          "text": [
            "2021-04-13 02:05:02 INFO: Starting server with command: java -Xmx23G -cp ../corenlp/* edu.stanford.nlp.pipeline.StanfordCoreNLPServer -port 9001 -timeout 60000 -threads 5 -maxCharLength 100000 -quiet True -serverProperties corenlp_server-43f7b8c78c5f4be9.props -annotators tokenize,ssplit,ner -preload -outputFormat serialized\n"
          ],
          "name": "stderr"
        },
        {
          "output_type": "stream",
          "text": [
            "4999\n",
            "9999\n",
            "14999\n",
            "19999\n",
            "24999\n",
            "29999\n",
            "34999\n",
            "39999\n",
            "44999\n",
            "49999\n",
            "54999\n",
            "59999\n",
            "64999\n",
            "69999\n",
            "74999\n",
            "79999\n",
            "84999\n",
            "89999\n",
            "94999\n",
            "99999\n",
            "104999\n",
            "109999\n",
            "114999\n",
            "119999\n",
            "124999\n",
            "129999\n",
            "134999\n",
            "139999\n",
            "144999\n",
            "149999\n",
            "154999\n",
            "159999\n",
            "164999\n",
            "{'COUNTRY': {'fold', 'China Egypt Peru', 'togo', 'Great Britain Canada', 'italy', 'Finland', 'China Korea', 'UK', 'Peru', 'Canada', 'Ukraine', 'Iceland', 'Austria', 'Saudi Arabia', 'India', 'UNITED STATES', 'Iraq', 'Russia India China Korea Japan', 'San Marino', 'gdr', 'hind', 'Ch', 'chad', 'PH', 'South Africa', 'Switzerland', 'Romania', 'Germany Switzerland Austria Netherlands', 'Russia Japan', 'united states', 'ENGLAND', 'the states', 'Ph', 'Germany Austria', 'PRC', 'Guatemala', 'Great Britain France Germany Austria Hungary Italy Russia', 'guinea', 'thailand', 'Netherlands', 'Uganda', 'America', 'canada', 'South Korea', 'Indonesia', 'Hungary', 'mexico', 'TURKEY', 'Vietnam', 'Sudan', 'Philippines Indonesia', 'pH', 'Thailand', 'egypt', 'USA China Germany', 'roc', 'Chad Madagascar Nigeria', 'Bahamas', 'red china', 'turkey', 'Jordan', 'Germany France Italy Austria', 'Morocco', 'Ireland', 'madagascar', 'Niger', 'Egypt Ukraine China', 'Austria France Germany', 'China', 'North Korea', 'USA', 'JAPAN', 'AMERICA', 'Israel USA', 'rus', 'Honduras', 'south africa', 'Germany', 'IRAQ', 'Norway', 'Singapore', 'Czech Republic', 'Korea', 'Scotland', 'germany', 'Italy France', 'New Zealand', 'Malaysia', 'Iran', 'MX', 'Japan Germany United Kingdom', 'MEXICO', 'Hungary Czech Republic Germany Mexico', 'uk', 'Kosovo', 'gaul', 'Panama', 'Kuwait', 'venezuela', 'Lithuania', 'america', 'Philippines', 'COMMUNIST China', 'Italia', 'England', 'japan', 'france', 'Israel', 'Denmark Hungary Mexico', 'Venezuela', 'Sweden', 'chile', 'Brazil Spain Portugal', 'ph', 'Malta Spain', 'Brazil', 'Mali', 'CHINA', 'CHina', 'France', 'Germany Belgium', 'communist china', 'CH', 'Guinea', 'Japan Australia', 'United States of America', 'Denmark Hungary', 'Australia', 'Turkey', 'Belgium', 'Latvia', 'jordan', 'the States', 'Costa Rica', 'US UK', 'Ethiopia', 'Malta', 'Chili', 'Mex', 'Egypt', 'USA Canada', 'GERMANY', 'Russia', 'Japan', 'Madagascar', 'FINLAND', 'usa', 'chili', 'CH CH', 'FOLD', 'India Switzerland', 'US', 'AFGHANISTAN', 'taiwan', 'ch', 'rUs', 'india', 'china', 'Colombia', 'cuba', 'Afghanistan', 'Kenya', 'England France Germany Austria Hungary Italy Turkey', 'Greece', 'United States', 'Jamaica', 'Cyprus', 'Denmark', 'Turkey Armenia Azerbaijan', 'Andorra Liechtenstein', 'China Mexico Hungary', 'Mexico', 'Andorra', 'Italy', 'Spain', 'IRELAND', 'Britain', 'communist China', 'Gabon', 'Costa Rica Paraguay Morocco Israel', 'Nederland', 'THE STATES', 'Poland', 'NORWAY', 'Iraq Afghanistan', 'Great Britain', 'Syria', 'Bangladesh'}, 'CITY': {'Alice', 'Rio Grande', 'Seattle', 'Paris London', 'Copacabana', 'Merida', 'New Orleans', 'Williamsport', 'Strasbourg', 'Conway', 'San Diego', 'Tokyo', 'Belfort', 'Dallas', 'manhattan', 'London Paris', 'Rochelle', 'Logan', 'Camden', 'Washington DC', 'Indianapolis', 'Cloverleaf Manor', 'Golden Gate', 'Bonita', 'Turner', 'Athens', 'Ridge', 'Crawley', 'Milford', 'SeaTac', 'Chicago', 'Miami', 'Notre Dame', 'Jupiter', 'Kingsburg', 'Baltimore', 'Zirndorf', 'Buckeye', 'New York City', 'Madison', 'Sunset', 'Tulsa', 'Sand', 'Brewster', 'Cafe', 'Venice', 'Chattanooga', 'Moria', 'SOFIA', 'Beverly Hills', 'New York City NYC', 'Riga', 'London Tower', 'Woodstock', 'Milton Bradley', 'Hastings', 'Tower', 'Emerald', 'Duluth', 'Pretoria', 'Olivia', 'Ocoee', 'Boulder', 'SAN JUAN', 'Lincoln', 'Asheville', 'SACRAMENTO', 'Woodbury', 'Turbo', 'Metro', 'Marti', 'Dumas', 'Brooklyn', 'current', 'Las Vegas', 'Tucson', 'Indio La Quinta', 'Alamo', 'Zurich', 'Flora Florence', 'Tokyo Tower', 'Rome', 'Green', 'New York City Brooklyn', 'Chelsea', 'Florence', 'Hillside', 'Umi', 'Hong Kong', 'Torrance', 'Silly', 'Brandenburg', 'HONG KONG', 'Minneapolis', 'Bath', 'London Beverly hills', 'San Luis Obispo', 'Winchester', 'Buffalo', 'Detroit', 'Nashville', 'Minnetonka', 'Marina', 'San Antonio', 'Greenland', 'Plano', 'Durango', 'Petersburg', 'Montreal', 'Anchorage', 'Sunrise', 'Honolulu', 'Louisville', 'Portland', 'Westport', 'Babylon', 'Nagoya', 'Mission', 'New York city', 'Bethlehem', 'Luxor', 'Casa Grande', 'Granada', 'Helsinki', 'Shelby', 'Atlantic City', 'Hanoi', 'Converse', 'Valley', 'Cape Town', 'Naples', 'Los Angeles Chicago', 'Vienna', 'Essen', 'Torres', 'Pismo beach', 'Jaipur', 'Kodiak', 'Manhattan', 'San Juan', 'Los Angeles Nana', 'Carmel', 'Price', 'Sydney Opera', 'Sumter', 'Norwalk', 'Monster', 'Laguna', 'Omaha', 'ROME', 'Beijing Hong Kong Jerusalem Green Paris Belgrade Cape Town', 'Cancun', 'Sofia', 'Grand Rapids', 'Carcassonne', 'Shirley Temple', 'Houston', 'BOSTON', 'Charlotte', 'POrtland', 'Riverside', 'El Paso', 'Beverly Hills Chihuahua', 'Vancouver', 'Malibu Mansion', 'Cove', 'Juneau', 'Beijing', 'Springfield', 'Dhaka', 'Dallas Houston Miami Seattle', 'Cheshire', 'Lincoln Log', 'Ravensburg', 'Gray', 'Luke', 'Tokyo Bay', 'Baja', 'Baku', 'NYC Brooklyn', 'Bangkok', 'Cleveland', 'Cincinnati', 'Easton', 'Santa', 'Aurora', 'Hollywood', 'Cave', 'Pasadena', 'Alhambra', 'Hamburg', 'Chesapeake Bay', 'Hercules', 'Auckland', 'Cape Canaveral', 'Zanzibar', 'Manta', 'Santa Fe', 'Sim', 'Santa Clara', 'Memphis', 'Mackay', 'Hard', 'Denver', 'Columbus', 'Lancaster', 'Shu', 'Horn', 'Manchester', 'Oceanside', 'Fort Lauderdale', 'Alhambra Carcassonne', 'Erie', 'The Colony', 'Fremont', 'Mage', 'Edinburgh Glasgow', 'San Francisco', 'Lausanne', 'Eagle Talon', 'Holland', 'Manger', 'Destin', 'new Rochelle', 'Sacramento', 'Luau', 'Winston', 'NYC', 'Roman', 'Saba', 'Grand Forks', 'Phoenix', 'Malibu', 'Spring', 'LONDON', 'Los Angeles', 'Matera Orvieto Urbino', 'Rome Florence', 'Victoria', 'Palm Beach', 'Cardiff', 'Dubai', 'Phrae', 'Rialto', 'Mayo', 'Winston Salem', 'Laval', 'AURORA', 'Himeji', 'Freiburg', 'Boo', 'MANTA', 'London', 'Kobe', 'Snellville', 'Li', 'Lala', 'Bay', 'Mega', 'Toronto', 'Stanley', 'Oklahoma City', 'Moshi', 'Sao Paulo', 'Asia', 'Hong Kong Shanghai', 'Warsaw', 'Austin', 'Baghdad', 'Berlin', 'Spencer', 'Colorado Springs', 'Golden', 'Augusta', 'Munich', 'Atlanta', 'Orange', 'Santa Cruz', 'Devon', 'Pisa', 'Murmansk Lieksa', 'Charleston', 'Crystal', 'Cordoba', 'Roseville', 'Eureka', 'Beacon', 'Cortez', 'Philadelphia', 'Cruz', 'Mecca', 'Kota', 'Orlando', 'Springs', 'Store', 'Hershey', 'Waterloo', 'Savannah', 'Pearl', 'Valley Santa Clara', 'Knoxville', 'Palm Desert', 'Newport', 'Paris', 'Manila', 'Cafe NYC', 'Bruges Lancaster', 'Sao Paulo Lagos', 'LA', 'Tower Paris', 'Sydney', 'Long', 'Cottage', 'Monza', 'Prague', 'San', 'Flora', 'Macon', 'Santa Monica Palm Beach', 'Chase', 'TOKYO', 'Essex', 'Salt Lake City', 'Dover', 'Gorgan', 'little', 'Catania', 'Edinburgh', 'Delta', 'Mansion', 'Boston', 'Beverly Hills Rodeo', 'Geneva', 'Derby', 'Pinewood Derby', 'Amelia', 'Calcutta', 'Anyang', 'Norfolk', 'Wilmington', 'Rimini', 'Bamako', 'Amsterdam', 'Bentley', 'Log', 'Santiago', 'Santa Lucia', 'Hudson', 'Elk grove village', 'Canyon', 'Chihuahua', 'Urbana', 'sofia', 'Liberty London', 'Lahti', 'Lagos', 'Andes', 'Las Vegas San Francisco Miami Beach Coral Gables'}, 'STATE_OR_PROVINCE': {'Connecticut', 'Oregon', 'ARIZONA', 'Ark', 'Alaska', 'Vermont', 'Pa', 'indiana', 'NM', 'new jersey', 'PE', 'DE', 'NJ', 'Mass', 'Guam', 'Ala', 'minnesota', 'DC DELAWARE NEW JERSEY', 'Virgin Islands', 'new york', 'ME', 'Pa Pa', 'MS', 'HI', 'Iowa', 'Minnesota', 'FLORIDA', 'Wyoming', 'SK', 'WA', 'Ky', 'New Mexico', 'North Carolina', 'ID', 'KY', 'NE Ohio', 'IN', 'Ore', 'Indiana', 'RI', 'tennessee', 'Newfoundland', 'Miss', 'AS', 'Illinois', 'NY', 'Michigan', 'Colorado', 'AB', 'OH OH', 'montana', 'Louisiana', 'NC', 'New Mexico Oregon', 'MI', 'PR', 'KS', 'GA', 'Utah', 'georgia', 'NT', 'Montana', 'NE NC', 'New Jersey', 'VT', 'Columbia', 'Calif', 'texas', 'WY', 'AR', 'ON', 'maine', 'Wisconsin', 'SD', 'La', 'Maryland', 'BC', 'NE', 'New York', 'AZ', 'TN', 'La La', 'Conn', 'MN', 'WV', 'California', 'Rhode Island', 'ND', 'Ohio', 'AL', 'MD DC', 'Mississippi', 'MD DE NJ', 'Kansas', 'CT', 'Idaho', 'South Carolina', 'Georgia', 'OK', 'Nebraska', 'AK DC HI ID MT ND', 'CO', 'Arizona', 'california', 'Surrey', 'Missouri Oklahoma', 'Virginia', 'Ontario', 'OH', 'Florida', 'florida', 'AK', 'SC', 'Ga', 'Oklahoma', 'INDIANA', 'YT', 'NY NJ', 'Ill', 'Alabama', 'New Hampshire', 'Missouri Illinois', 'CA', 'Tennessee', 'TEXAS', 'TX', 'DC', 'Quebec', 'CALIFORNIA', 'VI', 'Hawaii', 'PA', 'MA', 'MISSOURI', 'Texas', 'NB', 'Maine', 'Washington', 'OR', 'VA', 'Pennsylvania', 'Missouri', 'MD', 'new Hampshire', 'Nevada', 'MB SD', 'MB', 'West Virginia', 'MISSISSIPPI', 'NH', 'WI', 'michigan', 'Wash', 'vermont', 'Delaware', 'New Brunswick', 'QC', 'IL', 'PR SD VT VI GU', 'FL', 'Massachusetts'}, 'LOCATION': {'Mediterranean Avenue', 'Capitol', 'Frankenstein', 'Straightfowrawd', 'Imaginext', 'Carribbean', 'Lake', 'Small World', 'Mendhi', 'Nbox', 'Sea World', 'Tjmax', 'Science Channel', 'Village', 'Southern', 'Disney Little People', 'Krinkles', 'Candyland', 'Air Pack', 'Pyragon', 'Google Earth', 'Central Park', 'Anatex', 'White', 'Willow', 'Puddin', 'Sphinx', 'Lego City Undercover', 'Stratego', 'Old', 'Cape Crusader', 'Munchkin Cthulhu', 'Bendaroos', 'Ravensburger Aquarelle', 'NEca', 'Ramhorn', 'Death Machine', 'Neverland Pinterest', 'Yahtzee', 'Amber', 'Crayola Doodle Magic', 'Seinfeld', 'Evenflo', 'Africa Air Penguin Disney', 'Little People Barn', 'Polly Pocket', 'DohVinci Flower', 'Uniqua', 'Little People Castle', 'Kibble', 'Cleebronn', 'Tigris', 'Strawberry Cloud Leopard', 'Pentago', 'Sodor', 'Kobolds', 'Piece Puzzleimo', 'Shola', 'Delran', 'Artsee Studio', 'Staples', 'Jiu Jitsu', 'Black', 'Takenoko', 'Slimecano', 'Ariel', 'Thomas Deluxe Railroad Crossing', 'Grimlock', 'Zoobles', 'Spud Central', 'Casbah', 'Claus', 'Frodo', 'Lego Size', 'New Ultra', 'Pinypon', 'Cape Hatteras Lighthouse', 'Hearthsong', 'Crayola Dome Light', 'Swarmfire', 'Dreamhouse', 'Neon Pens', 'Freddie', 'Lego LOTR', 'Freeze', 'Ziplocs', 'Willis', 'Piazza del Duomo', 'Longstrike', 'Angel Island', 'Papo Brachiosaurus', 'Gund', 'Yosemite', 'Oberlin', 'Goblin', 'Cedar Point', 'Stunt City', 'Belles', 'Flickies', 'Playskool Poppin Park Bounce', 'Empire State Building', 'Kozu minifig', 'Bionicles', 'Fisher', 'North Sea', 'Radica', 'Chomp', 'Toy Wiz', 'Bratz Camp', 'Belle', 'Blades', 'Lords of Waterdeep', 'Minya', 'Tupperware', 'Batarang', 'Kryo', 'Mal Wart', 'Mount Olympus', 'Mount Rushmore', 'Brietta Barbie', 'Jedi Boba', 'Sugar Cookie Mix Easy', 'Misty Island', 'Bloco', 'Chessex', 'Sunstreaker Lower', 'Battle Arena', 'Children s Museum', 'Pixie Hollow', 'White House Big Ben', 'Catniss', 'Toralei', 'Castle Neuschwanstein', 'Desitin', 'Tongo', 'Colorama', 'Jurassic Park', 'Scurry City', 'Kins', 'Bullzooka', 'Ship Park', 'Plinko The', 'Waterdeep Harbor', 'Kung Fu Panda', 'Antarctica', 'Frostmarch', 'Leap Frog Leap Pad', 'Zooreka', 'Little Pony and Castle', 'Horsea', 'Camelot Forbidden Island', 'Lego Friends', 'Winzar', 'Giza', 'Mancala Dancala', 'Bridge the', 'Skully', 'Wedgits', 'Broken Bridge', 'Downton Abbey', 'Africa Lofoten', 'Lalaloopsy Little', 'Liopleurodon', 'Webkins', 'Lagoonas', 'Disney Fairies', 'Wooden Railway Water', 'City Search', 'Crown Center', 'Disney Sea', 'Hamster World', 'Puerto', 'Kourai', 'Harbor', 'Mediterranean', 'Trainin', 'Bumble Kart', 'Little Pony Castle', 'PS', 'State', 'moon', 'Crayola Glow Dome', 'Shelob', 'Arrythea', 'Ravensburger Children s Puzzle Ball', 'Goulia', 'Squinkie', 'Micronauts', 'sea Chapel Island Prison Stairs TownPlace rd Church City Dungeon Garden', 'Bratzillas', 'Soundwave', 'Rainbow Bridge', 'Playskool Rocktivity', 'Hola', 'Bellville', 'Glendragon Castle', 'Tenergy', 'BIG Lego', 'Batcycle', 'Cooking', 'Shutterfly', 'East Road', 'Cali', 'Busytown Busy Busy Airport Game', 'LOVES Little People', 'Amazing Maze', 'Gohan', 'Bridge', 'Medieval Market Village', 'Babyz', 'Fog Islands', 'Snowflake Barbie', 's Castle Great North Mountains', 'Sodor Misty Island', 'Megaland', 'Mystery Garden', 'Gelarti Studio', 'Wakz', 'Americas', 'Gilligan Island', 'Maul', 'Nile', 'Wholefoods', 'Crayola s', 'Brendam Docks', 'Africa Neederlands', 'Twiley', 'Giggly Monkey', 'Square By Square', 'Glow Baby Pool', 'Little People Playground', 'Twirlin Turtle', 'Nerf Maverick', 'Dorthey', 'Geo Trax', 'Ostara', 'Playschool Busy Ball Popper', 'Lakeshore Learning', 'Deluxe Village House', 'Weebalot Castle', 'Grand Emporium', 'Sodor Tunnel', 'Fl', 'Airlines Europe', 'Achooo', 'Puzzle Ball', 'Playskool Poppin Park Elefun Busy Ball Popper', 'Wild Republic', 'Gazzion', 'Rock Star Mickey', 'Geotrax Grand', 'Hamster Highway', 'Gargamel', 'Coffin Bean Torelai', 'Bloks', 'Pullip', 'Laketown', 'Midwestern', 'Halloween', 'Deathwing', 'Jinafire', 'House', 'Krillin', 'Tidmouth', 'Wayfair', 'Rajasthan', 'Kokojo', 'Capsela', 'Animal Kingdom', 'Degla Euphrates', 'Steam Park', 'Caccycle City', 'Playdoh', 'Gremlins', 'Everglades', 'Bi Lingual', 'Retroplay', 'Pantheon', 'Seagonia', 'Zip Lock', 'Themyscira', 'Poochyena', 'Aegean', 'Great States', 'Dwalin', 'Octoberand', 'Great Wolf Lodge', 'Ravenloft', 'Bricklink', 'Belle Cinderella', 'Dragon Nursery', 'Ponyville', 'Turret', 'Pirates', 'Leap Frog Leap Pad Power Learning Tablet', 'Dexter', 'Great Wall of', 'Gauntlet', 'Prismacolor', 'Vaderize', 'Winning Zone', 'Afria', 'Pengaloo', 'Dagobah', 'Chuggington', 'Seeland', 'Cabin', 'Lake Havasu', 'Jingle', 'Blitzwing', 'Jinn', 'Perrito', 'Longfellow', 'Mariokart', 'Bratz Rock Angelz', 'Lalaloopsy Littles', 'Cariboo', 'Pacific Northwest', 'Chipettes', 'Bermuda Triangle', 'Royal Ship', 'Winter Village', 'Far East', 'Children Hospital', 'Sprinkbok', 'Tosche Station', 'Whitechapel', 'Lonpos', 'Khemet', 'Persia LEGO', 'Atlantic', 'Clearview', 'Cretoxyrhina', 'Busytown', 'Herzegovina', 'Harrisville', 'Lolofun', 'Midge', 'Rikers Island', 'Load Seaport', 'Meganium', 'Darth Vader', 'Mcdonlad', 'Brok The Brachiosaurus', 'Spinaroos', 'Pinkerton', 'Colins', 'Lovecraft', 'Thinkfun', 'Sierras', 'Furby Furby', 'Disney Logo', 'Tuscany', 'Ironhide', 'Honey Clawdia', 'Build A Road', 'misc', 'Sideswipe', 'Bat', 'Crayolas', 'Elsa Amazon', 'Coffin Bean', 'Imaginext Bat', 'Creeper', 'Lego Meccano', 'NEUSCHWANSTEIN', 'Squig', 'Qilin', 'Fairytopia', 'Crayola Boutique', 'Dark City', 'Lumosity', 'Lazerbeak', 'Cena', 'Moonscope', 'Maleficent', 'Portofino Windmill Country', 'Helen', 'Guesstures', 'Juno', 'Rock Star Stage', 'Thomas Friends Wooden Railway Water', 'Wizards', 'West Nile', 'Wave Gipsy', 'Wallgreens', 'Walking Dead Zone', 'Original Strawberry Shortcake', 'Parasaurolophus', 'Brony', 'Transformology', 'Laserbeak', 'Predaking', 'Rio', 'Dsiney', 'Magic Jinn', 'Radiator', 'GenCon Lake', 'Buzzagent', 'Hotel Transylvania', 'Crysili', 'Strat', 'Skinfaxi', 'Nobles', 'Medieval Castle', 'Civ', 'Eviltron', 'Bronx Zoo', 'Luxury Townhome', 'Nefera', 'Redwood Junction', 'Harbour', 'Medieval', 'Bruticus', 'Laser Maze', 'Propwash Junction', 'Berry Farm Amusement Park', 'Walkera', 'Dollhouse', 'Alley', 'JURASSIC', 'Europe Nordic Countries', 'Leap Frog', 'Gate', 'Hinterlands', 'Sub Saharan Africa', 'Pathwords Jr', 'Timbertown Railway', 'Anomia', 'Bad Ash', 'Europe Africa', 'El Chupacabra', 'AMazon', 'Quercetti Marble Run', 'Yo Gabba', 'Pacific Rim', 'Boxand', 'Lego Town', 'Heathcliff', 'Barbie Beach', 'Cal', 'Ice Cream bar', 'Trunkis', 'Big City', 'Dragon Head Zord', 'Imaginext Rescue City', 'The', 'Cloud City', 'Sodor Cranky', 'Royal Ball', 'Kidkraft', 'Delcatty', 'Chugginton', 'Petagonia Azoozia', 'Skyrim', 'Doodle Dome', 'Folkmanis', 'Sirena', 'Poly', 'Sierra', 'One Il Quattro', 'BenorEmpire State Building', 'Castle Crest', 'Sodar', 'Kidoozie', 'Mordred', 'Legoland', 'Nevererland Ranch', 'ChaosRobotnik', 'Never Sea', 'Quatrefoil', 'East West North', 'south east west', 'Georges', 'Urchin', 'Great North Mountains', 'Ninjago LEGO', 'Mobigo', 'Sarracenia Northwest', 'Connor', 'Great Waterton Sodor', 'Rio Grandes', 'Canal Street', 'Poppin Park', 'Penny Turtle', 'Ballcano', 'Waterfire', 'Cal Ranch', 'Endor', 'Marginary World', 'Thomas Trains', 'Fancy', 'Mars', 'Pond', 'Playroom', 'Boggle', 'Peg Perego', 'Cowthulhu', 'Ballistik', 'Island', 'Camp Memaw', 'Stunt Park', 'Rapunzel', 'Cape Cod', 'Rayven', 'Drive Silicon', 'Boushh Disguise', 'Loopsy', 'Cataan', 'Draculara', 'Airline Europe', 'Disney World', 'Goddard Space Center', 'Jenga Donkey Kong', 'Jericho', 'CHRISTMAS', 'Labeouf', 'Blackarchnia', 'Petshop Town', 'Arctic', 'Sonneveld', 'Wallmart', 'Bounce Bounce', 'Quikrete', 'Aragorn', 'Mirkwood Elf', 'Tiki', 'Darth Maul', 'Mall of', 'Baby', 'Madame Hydra', 'Waluigi', 'of Africa', 'Lalaloopsy', 'Frosty', 'Donkey Kong', 'Comanche Camp', 'Xheli', 'Mem', 'Llama', 'Elmo', 'PetPad', 'Delsin', 'Tatooine', 'MU', 'Boxford', 'Crayola Sidewalk Chalk', 'EU', 'West', 'Pollys', 'Legomania', 'Partyland', 'Sicily', 'Town Hall HUGE', 'MH', 'Predacon', 'Walkdoll', 'Trashy Town', 'Twilicorn', 'Ride', 'North South East', 'Faryl', 'Kyoto', 'Action Tech City', 'Europe', 'Rebelle', 'Yo Gabba Gabba', 'Mirkwood Spiders', 'Break Bomber Battlefield', 'Guang Dong', 'South Pacific', 'Mamma', 'LO', 'Takara', 'Leapworld', 'ST', 'Hedbanz', 'Flower Garden', 'Dakota Fanning', 'Zimbos', 'Watzit', 'Cabin Paintworks', 'Ylvis', 'Little Mommy Laugh', 'Grouchland', 'Jedi', 'Oogula', 'Piazza del Miraculo', 'Legoworld', 'BASARH', 'Peaceable Kingdom', 'Pumpkin Patch', 'Deja', 'Blade Nano', 'Magical Tiki Hideout Playset', 'Tri County', 'Staatsland', 'Balloon Lagoon', 'Smaug', 'Marvel City', 'Devastator', 'Gotham', 'Station LEGO City', 'Beyblades', 'Mos Eisley', 'Intercoastal Seaport', 'Caucasus Mountains', 'Earth Defense HQ', 'Lantern', 'Waterpark', 'South Park', 'Black Zero', 'Kennedy Space Center', 'Rizzi City', 'Neds', 'Equila', 'Kreo', 'Katniss', 'Twistables', 'Espeon', 'Rock Elmo', 'South Poles Jungle', 'Sout', 'Speedtest', 'Carcade', 'Caribbean Legos', 'Busch Garden', 'Marklin', 'Babipouce', 'Disneyland', 'Sharpshooter', 'Imaginext Castle', 'Purrsephone', 'Game', 'Ziggle', 'Merlin', 'Megaman', 'Town', 'Hawkeye', 'Pizzeria Town', 'Neuschwannstein Castle', 'Westeros', 'National Park', 'Un Dora', 'Hotwheels', 'Baby Alive Bouncin', 'Kamchatka', 'Vulpix', 'Chrony Alpha', 'Rook City', 'Bavoria', 'Mandala', 'Mediterranean Theater the Pacific Theater', 'Swagbucks', 'Lalaloopsyland Doll', 'Space Ghost Coast', 'Camp Stove', 'MC', 'Llamas', 'Lanai', 'Loot Island Pirates', 'Victorian', 'Tx', 'Nefera de Nile', 'Cinderella', 'Elf', 'Oa', 'Hobby Lobby', 'Red', 'Buzzbee', 'Tunip', 'Lego Building', 'Black Hawk', 'Calico', 'Uluru', 'Trigun', 'Kreo Haunted Hideaway', 'Amazon Derrick', 'Chech Republic', 'Sophia', 'Brain Warp', 'Midwest', 'Meeples', 'Mackey', 'Leapster App Center', 'McMissile', 'West Africa', 'Caylus', 'Ballapalooza', 'Bora Bora', 'Bloomsberg Businessweek', 'Water', 'THE Penguin Burgess Merideth', 'Eiffel', 'Neuschwanstein Castle Neuschwanstein Castle', 'Longest Road', 'Kumon', 'City', 'Goose', 'Bugatti', 'Neptuna', 'Prismacolor Pencils', 'Eco Friendly Wood', 'Poopeye', 'Spotify', 'West Side', 'Great Lady Gaga', 'Plush Petey Puppet', 'Seasame', 'Brachiosaurus', 'Imaginext City', 'Oceana', 'Pluto', 'ThinkGeek', 'Castle Kingdom', 'Skullport', 'Arkham Horror', 'Smoky Mountains', 'Roboburg', 'Smethport', 'Caribbean', 'Nubu', 'Kuchipachi', 'Bruder', 'Toystate Road', 'Bofur', 'Scooter s Jungle', 'Terrier', 'Longhaul', 'Outdoor Bakery', 'Quattro', 'Strategicon', 'Devo', 'Nerfwar', 'Skywarp', 'elf', 'Eastport', 'Mariposa', 'Chewbacca Angry Bird', 'Paperoni', 'Great Grandma', 'Pizza Planet', 'Zoweee', 'BRAVO Amazon', 'Merles', 'Duploe', 'Brain Lube', 'Juno Baby', 'Cadance', 'Little People Disney Castle', 'Northeast', 'Keurig', 'NECA', 'Exiled States of', 'Skull Shores Gloom Beach', 'Martinmas', 'Roboreptile', 'Bren', 'Goldberg', 'Neuschwanstein Castle', 'ImagiNext City', 'Little Partners Learning', 'Caillou', 'South Street Philly', 'Battleship', 'Ban Dai', 'Jiapur', 'Spiderman Stunt City', 'Heroica', 'Paddington', 'Intex Sea Turtle', 'Sweetsong', 'Old West', 'Mother Earth', 'Jungle', 'Amman', 'Colovini', 'Gameas', 'amazon', 'Africa', 'Mattycollector', 'RC', 'Celestia', 'Sunnydale Chick', 'Dado Building Cubes', 'Dome', 'Rock', 'Kung Fu Grip', 'Persian Gulf', 'Orbeez Adventure Park', 'Bratzilla', 'Daddy', 'CatanorForbidden Island', 'Plush Baby', 'Statue of', 'Town Hall', 'Haba', 'Heavy Cannon', 'Quercetti', 'PAK Arkham City', 'Wild Wiilld West Bratz', 'Waboba', 'Kraang', 'Kllzone', 'Chuggington Wooden Railway', 'Wildstyle', 'Merroway', 'Rival', 'Lowes', 'Trackmaster', 'Transformes Prime', 'Value City', 'Plan City', 'Knex', 'Wilsons Wild Ride', 'Celestia Chrysalis', 'Sentai', 'Medicom', 'Kanoodle', 'East Coast', 'Park', 'Snake', 'ThinkFun', 'Vario', 'Shire', 'Little People Toys', 'Funko Ponies', 'Funko', 'Eneloop', 'Heisei Monsterarts', 'Linthos', 'Led Zeppelin', 'Umbara', 'Run Tube', 'Kreons', 'Disneys Dinosaur', 'Drift', 'Northern Ca', 'Capitol Neuschwanstein Castle Empire State Building', 'Gigglin Bee Ball', 'Webkinz', 'Nefra', 'Hawai', 'Ganma', 'Beach Mountain Forrest', 'Cloud Cuckoo', 'LOVES', 'Crayola', 'Wooden Railway Collapsing Sodor Suspension Bridge', 'Spiderella', 'Brobee', 'Slomo', 'Sharp', 'Lookout Mountain', 'Duplo Lego', 'Ertl', 'Scandanavia', 'Logs', 'Whenback Way', 'Gallery', 'Flash Point', 'Learning Lodge', 'Bejeweld', 'Cloud City Cantina', 'Tonto', 'Leap Frog Leap Pad Ultra', 'Check Republic', 'Red Hood', 'Spoectra', 'Zurafa', 'Hexbugs', 'Cast Equa', 'Styrofoam', 'Sudoku', 'Padawan', 'Scaris City', 'Meygan', 'Helipad', 'Zombicide Toxic City Mall', 'Skull Shore Draculaura', 'Ghoulia', 'Cinderalla', 'Wulfgar', 'Aquarium', 'Clawdeen', 'Deadshot', 'States', 'Leap Frog Pad Ultra', 'Central Station', 'Strawberry Short Cake', 'Dreadwing', 'Ballerina', 'Gloona', 'Wooden Railway Thomas', 'Philbin', 'Sagittario', 'Orbeez', 'Heroscape', 'Hog Wild Poppers', 'Disneyworld', 'Vampyre Castle', 'Greater Dalmuti', 'Dice', 'Yo Yo', 'Swivel', 'Fairies', 'HK', 'Chell', 'Playstation', 'Silicon', 'JFK', 'Manzanar', 'Tumblr', 'Chixos Loft', 'North', 'Disneystore', 'Kikkerland', 'Minimus', 'Mushroom Hill', 'Egyptiansand', 'Leappad', 'Brigrade Town Hall', 'Vsmile', 'Gymnic', 'Playnest', 'Early Modern', 'moon Leap Frog', 'Ninja', 'Arctic Circle', 'Building', 'Track', 'Team', 'Poppin Park Elefun Busy Ball Popper', 'Rock Wall', 'Skyquake', 'Mohawk', 'Federation Territories', 'Batcave', 'Hasboro', 'Chicagoland', 'Desert', 'Scatergories', 'Stackadoos', 'Mod Podge', 'Meijers', 'Little Tikes', 'Hamusuta', 'Float', 'Belville', 'Butterfly Garden', 'Mardi Gras', 'Maginary World', 'Naboo Starfighter', 'Crossways', 'Quiddler', 'Playskool Poppin Park Learn N Pop Lion', 'Littlest Pet Shop', 'Leap Pad Ultra', 'Barnes', 'Incrediblock', 'Kotobukiya', 'Lightbeam', 'Wall', 'Gund Elmo', 'Sleeping Queens', 'Carcassone', 'Desert Pacific', 'Gloom Beach', 'Cajun', 'Heartsong', 'Thinkgeek', 'Lesson Zero', 'Volcanic Island', 'Ponythat Bluebell', 'Callico', 'Hasbro', 'Atlantic Ocean', 'AT', 'Bavaria', 'All Star Barbie', 'Dora', 'Bella', 'Crossbow Soaker', 'Balls', 'International Space Station', 'Empire', 'Hobbyzone', 'Township Annual Youth Fishing', 'ClassicorRavensburger', 'Wocket', 'Peaceful Planet', 'Thomas And Friends Wooden Railway Suddery Swing Bridge', 'Playskool Alphie', 'Colosseum', 'Field', 'App Centre', 'Crocodile Creek', 'aka', 'Ponyville Pinkie', 'Piranah Plant', 'Both', 'Stockade', 'TE', 'Legoville', 'Hape', 'Beach House', 'Mermaid Lagoon', 'Diego', 'Great Grand', 'Lalaloopsies', 'Domion', 'Cedar', 'Longshot', 'Ulfstead Castle', 'Rummikub', 'Pictureka', 'Mightyena', 'Arkham City', 'Lighthouse Island', 'Zombie Dice', 'Castle', 'LEGO City Castle Kingdom', 'SODOR', 'Outer Banks', 'Webkinz World', 'Boca', 'Darkrequire', 'Minecraft', 'Pacific', 'Western', 'TowerCarcassonne The', 'Hangtime Bridge', 'Tamashii', 'Beystadium', 'Markwitz', 'Sahara', 'Galactica', 'Ninjago', 'Ooh', 'Thunderstone', 'Value Village', 'Operetta', 'Qubo', 'Xbone', 'Penbo', 'Legolas', 'Angelina Ballerina', 'Black Lagoon', 'Fluttershy', 'LEGO Large', 'Amusement Park', 'Pop On Pals Amusement Park', 'Koala', 'Capitan', 'Modulars Town Hall', 'Party City', 'Kathmandu', 'Bratz Wild Wild West', 'Piranha Plant', 'Catwoman Catcycle City', 'Mountain Peak', 'Grand', 'Robotnikland upon Station Square', 'Bosnia', 'Toxic City Mall', 'Swimways Baby', 'Hailfire', 'Space Base', 'Little People', 'Sodor Search Rescue Centre', 'Wonka', 'Federation Space', 'LEGO City', 'Circo', 'Brainy Baby', 'Slide', 'Gardens', 'Equestia', 'CHATSWORTH', 'Gramma', 'Drawbridge', 'Forbidden Desert', 'Qwirkle', 'Hobbit', 'Days', 'Paladin', 'Unites States', 'Estate Gardens Duchy', 'Garden', 'Ninja Turtles', 'Nefra De Nile', 'Big Boggle', 'Wild Wild West Fianna', 'Sodor Island', 'Heatwave Bumblebee', 'Swiper', 'Southern Ca', 'Boos', 'Lagoona', 'Pocahontas', 'Empire State', 'Penguin', 'Mooshka', 'Torelei', 'Target', 'Sophia Castle', 'Bayblades', 'Gimli', 'MC Roar', 'Bev Hills', 'Table', 'Naboo', 'Yoda', 'Snow White', 'Lava Reef Zone', 'Parchisi', 'Palantir', 'Tzolk', 'Sarina', 'Grand Daughter', 'White Mountain', 'Juno Baby Bunny', 'Magnatiles', 'Geotrax', 'Rescue City', 'Sears', 'Games', 'Starscream', 'Neverwinter Waterdeep', 'Red Lion Wildzord', 'Lantern Planet', 'Whonu', 'Scootaloo', 'Origin', 'Longwall', 'Sharpie', 'Cabella', 'Poke Ball', 'Blast Quarry', 'Uptown Kitchen', 'Hero City', 'Lego Castle', 'Wally World', 'Airport', 'Bugsby', 'Strider', 'Playmobil', 'Chevy', 'Mountain Beach Forest', 'Educo', 'Makayla', 'Drizzt', 'Bunny', 'Persia', 'Monarch City', 'Showcam', 'Great Waterton Thomas', 'Blast Zone', 'Sleigh', 'PERSIA', 'Putumayo', 'Burn Ward', 'Moonsand', 'Les Classiques', 'Bravo', 'Superman', 'Atlantea', 'Ergo Baby', 'Arkham Batmen', 'Tidmouth Sheds', 'Foofa Plex', 'Mermaid', 'Gallifreyan', 'Kazma', 'Everythingland Mailbox', 'Neverland', 'Lumistick', 'Ponyville Confidential', 'Peacable Kingdom', 'Getta Gund', 'Playscool', 'Grotto', 'Swanpanasia', 'Padre Island', 'Misc', 'Vigilon', 'Leog City', 'Bat Mitzvah', 'Jabba', 'Jinafires', 'Pinterest', 'Octonaut', 'JURASSIC PARK', 'Lagoona Classroom', 'Wheelies Amusement Park', 'Rocky', 'Spongebob', 'Devastadium', 'Son Goku', 'Square by Square', 'Disney Castle', 'Quelf', 'Chick', 'Taxi', 'Lomb', 'Lego City Corner', 'Legos', 'Bop It Bounce', 'Zagg', 'Review Forbidden Island', 'Mooshroom Creeper', 'Fermin', 'Heartlake City Pool', 'Galactic Empire', 'Crayola Dome', 'Fauna', 'Old McDonald', 'Disney Junior', 'Goku', 'Blue Mountain Quarry Thomas', 'Barnes Nobles', 'Greedo', 'Misty Island Rescue', 'Automoblox', 'Animal Planet', 'Northern', 'Waterdeep', 'Schwarz', 'Kili', 'SOPHIA Disney', 'Mami', 'Fairy Garden', 'Europe North Africa Central', 'Kindermusik', 'Amozon', 'Brinklink', 'Philyodaddy', 'Skelita Calaveras Jinafire', 'Foofa', 'Louvre', 'Donkey Kong Kart', 'Magica', 'Playset', 'Wydona', 'Dizios', 'Skippity', 'Royal Wedding Castle Playset', 'Hobbyking', 'Doddleburg', 'Crayola Jumbo', 'Meijer', 'Blue Toad', 'Critter', 'Hearts Pinochle Spades Whist', 'Looney Labs', 'Bounce Tigger Bounce', 'Alex Little Hands Craft', 'Carcasonne Castle Panic Forbidden Island', 'Spades', 'Everfree Forest', 'Neuschwanstein Castle Disney', 'Tapple', 'Disney Jr', 'Menomena', 'Innotab MobiGo', 'NZ', 'Elefun Poppin Park', 'New Moon', 'SPLENDA', 'Pryagon', 'Pip Squeaks', 'Speedor', 'Rhodey', 'Ultra', 'Nevalyashka', 'Les Cheries', 'Banggood', 'Metropolis Rook City', 'Castel', 'Grand Central Station', 'Spiel Des Jahres', 'Beechwood', 'Steif', 'Wars', 'Step Island Resort', 'Pax East', 'Nerfs', 'Jinifire', 'Busy Town Activity Center', 'Strahd', 'Little People Fun Park', 'Agricola', 'Wolverine', 'Pnk', 'Imaginext Action Tech City', 'Sonix City Mall', 'Kaplan Learning Center', 'Cinco de', 'Wi Fi', 'Hill', 'Yugo', 'Papa Smurf', 'Sheemah', 'Fortress', 'Umbaran MHC', 'Middle East', 'Roxxi', 'Ponis', 'Fake Zero', 'Balkan', 'Kiddo', 'Zombicide', 'Kidraft', 'Skull Shores Lagoona', 'Ratuki', 'Knapford Station', 'Robosapien', 'LEGO', 'Hexbog Nano', 'Howleen', 'Tatget', 'Bulstrode Lighthouse Bridge', 'Acorn Plains', 'Shield', 'Seahorsey Friend', 'Tek Nek', 'Begins', 'Heartlake City', 'Miskatonic', 'Magic Cabin', 'Power Grid', 'Utube', 'Arcee', 'Busy Town', 'Mall', 'Cogsley', 'Niska', 'Rockseena', 'Underground Railroad', 'Execuheli', 'Tikal', 'Rapunzels', 'Disnyeland', 'Koopa', 'Chalet', 'Minnie', 'Piece Puzzleto', 'Disney', 'No Stress Chess', 'Hoth Wampa', 'Memetchi', 'Lego City', 'Ashardalon', 'Walking Dead Funko', 'Gencon', 'Old World', 'Togepi', 'Blvd', 'Anchors', 'Donky Kong', 'Blackarachnia', 'Busch Gardens', 'Rock Candy Mines', 'Aquarelle', 'BRUDER BRUDER', 'Euphrates', 'Kauai', 'Innotab', 'Tenbucks', 'Hollow', 'Caribbean Space Mountain Haunted', 'Hokey Pokey', 'Fluxx', 'Sesame Street', 'Crayola Sound Studio', 'Thomas Wooden Railway', 'Killer Croc', 'New', 'Rocket Road', 'Ubongo', 'Mellissa', 'Double Square', 'Spiderman', 'Whistler', 'Leggos', 'Camp Mather', 'Cotton Candy', 'Lounge', 'Sheldon', 'Gigamic', 'Cthulhu', 'Bloomsberg', 'Neuschwanstein', 'Shutes', 'Little Violet', 'Momma Great White Shark', 'Polterghoul', 'Adora', 'Galactus', 'Statego', 'Tranya', 'Clarabel', 'Petpad', 'Yellow Brick Road', 'Excelsior', 'Towerover', 'Carcasonne', 'White Mountain Puzzles', 'Eggman Island', 'Sleepy Seahorse', 'Black Gate', 'Northern Panhandle', 'COLLECTIBLE Bratz', 'south west', 'Antartica', 'Leap Pads', 'Live Butterfly Garden', 'Magic Ball Zone', 'Hera', 'Haythem', 'Creepateria', 'Amazon', 'Frozen Castle', 'Locktight', 'Empire Leia', 'Tehran', 'Puzzle', 'Violet Beauregarde', 'Tidmouth Knapford Station', 'Gabba', 'Sea', 'Cityville Monopoly', 'Kissifuss', 'Utopia Planitia', 'Jersey', 'Arrowhead', 'Yatzee', 'Brawlin Buddy', 'Portofino Harbor', 'Carpatina', 'Mattel Batmobile', 'Tahoe', 'Ravensburger Eiffel', 'Mariposa Barbie', 'Capitol Neuschwanstein Castle Empire State', 'Asmodee', 'Sebulba', 'Crete', 'Lego city', 'Rock Angelz', 'Kahuna', 'Latin', 'Jamiaca', 'Arounbd Playground', 'Amazon Locker', 'Pacific Ocean', 'Rayla', 'Rocktivity', 'Petticoat Junction', 'Koryo', 'Hordaland', 'Camp Rock', 'Megablocks', 'Flarp', 'Sodor Honey', 'Beorn', 'Spyrium', 'Sith', 'Bronies', 'Equestria', 'Umicopter', 'Poohs', 'Elissabat', 'Zecora', 'Toyland', 'Arkham Origins', 'Schulz Museum', 'Rheun', 'Robecca Steam', 'Tyreese', 'Kingdom', 'Cinque Terre', 'Talking Castle', 'Skull Shores', 'Vatican', 'Nanoblocks', 'White Moon', 'Deuce', 'Chica', 'Malakili', 'Upwords', 'Khan Phaser', 'Parkzone', 'Luminara', 'Greater Peon', 'Broc', 'Criblife', 'Twin Town', 'Pig', 'United Kingdoms', 'Stenzzles', 'Discovery City', 'Corolle', 'New Tile Pile', 'Vanille', 'Building Plate', 'GRACIE', 'Great Waterton', 'Omnitron', 'Gulf of', 'Dark Blue', 'Gruumsh', 'Tidmouth Tunnel', 'Tunnel a Bridge Tunnel', 'Ikea', 'Knapford', 'Babbles', 'Slenderman', 'Lucedale', 'Tygra', 'Sodor Friends Piece Shaped Floor Puzzlepuzzle', 'Mirkwood', 'Reversi', 'Crayola See Thru Dome', 'Lego', 'Godzilla', 'Gator', 'Pink Toad', 'YO', 'Spooky Woods', 'Robot Chicken', 'Wildling', 'Yellow', 'Nefera De Nile', 'Monopoly', 'Flash Point Forbidden Island Forbidden Desert', 'Charming', 'Lipo', 'Little Big Planet', 'Obi Wan', 'Annika', 'Bandz', 'WWE Slam City', 'Towhook', 'Electronic Playground and Learning Center', 'Youtube', 'Bridge Puzzle', 'Pacific N', 'Collection', 'Big Ben', 'Moose Mountain', 'Centenniel Park', 'Maithwait Station', 'Razcal', 'Red Rock', 'North East', 'Elekid', 'Horseshoe Hill', 'Tech City', 'Bakugan', 'Orient', 'Little Tikes Cupcake Kitchen', 'The Hill', 'Bullseye', 'Angry Bird', 'Rod', 'Kreon', 'Chatsworth', 'Boomer', 'Michonne', 'Rivendell', 'Diddy Kong', 'Sunnydale', 'Meritline', 'Rose Petal', 'Bull Zord', 'Old McDonald Comes', 'Brok', 'Ubooly', 'Barbie', 'Learning', 'Sodoku', 'South Sea', 'Rock Star', 'Weebleville Town', 'Scaris', 'Euplocephalus', 'Hyper Dome', 'Republic of', 'Beast', 'HEXBUG Nano', 'Nano Ant Larva', 'Powerizer Bulkhead', 'Whoonu', 'Bigsavings', 'Dora And Friends', 'Dakota', 'Minecraft Village', 'Lego Duplo', 'Juno Orchestra', 'The Town Hall', 'Camelot', 'Easy Bake', 'Beyblading', 'Portofino', 'Kitchen Island', 'Lire', 'Nanas', 'Meowlody', 'Busy Airport', 'Kreo Battleship', 'AQUARELLE', 'Broadway', 'Krang', 'Zobmondo', 'TTR Europe', 'Mighty Devastator', 'Mario Kart Piranha Plant K', 'Killzone', 'Farmville', 'Maze', 'Strawberry Shortcake', 'Beanland', 'Otterbox', 'Red Bull', 'Clifford', 'Ravensburger', 'Playstation Netowork', 'Klip Klop Castle', 'Harmonia', 'Transylvania', 'Sci', 'Deadpool', 'Southwest', 'Main Street', 'Toygaroo', 'Everest', 'Spielbox', 'Wookiepedia', 'Northeastern', 'WASHABILITY', 'Great Peon', 'Perplexus Maze', 'Corsola', 'Elefun', 'Big', 'Nefara', 'Air Zano', 'Station Square', 'Sprout Preschool Channel', 'Garmatron', 'Inotab', 'Catan', 'Bridge Tunnel', 'Avenue', 'Great Wallenda', 'Quadrilla', 'Furby', 'Furblings', 'Gipsy', 'MARDI', 'Pollyia', 'Swan Lake', 'McFarlane Toys', 'Rifle', 'Amazon Vine', 'Louis', 'Guppie', 'Head', 'Timberdoodle', 'Pocoyo', 'Ocean', 'South Island', 'Lofoten', 'Hot Seat', 'Wonderland', 'Ninja Turtle', 'Dinosaur Zipbin', 'Cedar Wood', 'Yucata', 'United State', 'Terra Mystica', 'Deluxe Nursery', 'Little People Wheelies Amusement Park', 'LEGO Town Hall', 'Devestator', 'Nursery Piece Floor Puzzleand', 'Eifel', 'Power Wheels', 'Rescue Tails Center', 'Pompeii', 'Stryfe', 'Bakugan Gauntlet', 'Playskool Poppin Park Eelefun Busy Ball Popper', 'Skull Island', 'Todoroki', 'Rocket Zone', 'Madness', 'Xanathar', 'green zone', 'Little Lamb', 'Fort', 'Superfriend', 'Cabinand Lighthouse', 'Zooble', 'Dagon', 'Nahui Ollin', 'Stuntacular City', 'Guitar Center', 'Fran', 'Hogwarts', 'Flashpoint Pandemic Forbidden Island Forbidden Desert', 'Traxxas', 'Frog Pond', 'Cop Rock', 'Croc', 'Underground Toys', 'Duplo City', 'National', 'Wheel Pals', 'Lotso', 'Innotabs', 'Scattegories', 'Kinect', 'Mickey Mouse', 'Madame', 'Nanoblock Empire State Building', 'Arkham Asylum', 'Grow Busy Ball Popper', 'Burgandy', 'Little Planet', 'Suzette', 'Kuma', 'Montmartre', 'Lady of the Lake', 'Space Camp', 'Swoops Amusement Park', 'Red Planet', 'Alphie', 'Pathwords', 'Ravensburger Puzzles', 'Scattergories', 'Bumbo', 'Perler Beads', 'Centurion', 'Bohnanza', 'Medieval Burgundy', 'El Grande', 'Skipbo', 'Telluride', 'Vader', 'Haul', 'Dinosuar', 'PLUTO', 'Nahji', 'Imaginext Dinosaur', 'Dominion Hinterlands', 'Right', 'Xmas', 'Air Hogs Sharpshooter', 'Square', 'Liguria', 'Andropia', 'Forbidden Island', 'Quinjet', 'Mech Combat Mode', 'Jersey Shore', 'Seahorse', 'Xia Xia', 'Burgundy', 'Mirida', 'Scleich', 'Lake Tahoe', 'Alpha Squad Love', 'Richard Scarry Busy Town', 'New Sprouts', 'Arkham', 'Moon', 'Glitzi Globes Dome Maker', 'Triple Blast Alley', 'Splenda', 'DOC HUDSON', 'Cryotube', 'Busy Busy Town', 'Ipads', 'Nerf HC', 'Rocka', 'Destroyer Dome', 'Collecta', 'AMAZON', 'Ecruteak City', 'Mobi', 'Batfun', 'Nanoblock', 'White Tiger', 'Grey', 'Crossing', 'State Fair', 'Deathstroke', 'Doodleburg', 'Macao', 'Mickey Mouse Clubhouse', 'Ballet', 'Papo Baby Mammoth', 'EQUESTRIA', 'Vanka Vstanka', 'Trans', 'Backyardigan', 'Nerf', 'Maersk', 'Hauntlywood', 'Eterina', 'Pig Island', 'Gras', 'Mogwai', 'Elecktro', 'Viperine', 'Vegas', 'Wampa', 'Eqypt', 'Uncanny', 'Old Republic', 'Ravensburger Empire State Building', 'Aragorn Legolas', 'Neptune', 'Kdg', 'Glow Station', 'Jibgle', 'Asura', 'Coast', 'Little Mermaid', 'Sparkey', 'Turtle Demolition', 'Oma', 'Finchley', 'South', 'Earth', 'Gogeta', 'CLR', 'Hawaiian', 'Goyle', 'Slugger', 'Gotham City Jail', 'Spinjitzu', 'Leap Frog Ultra', 'Destroyah', 'Minnie Mouse', 'Lego Bat', 'Taio', 'Orton Writing Road', 'Ultra Stomp', 'New Batgirl', 'Molasses Lake', 'North State', 'North East South West', 'Hamsuta', 'Walt Disney World', 'Mountains', 'Focalprice', 'Bombur', 'Knizia', 'TTR', 'Tsuro', 'Penny', 'Zoobles Playset', 'Irkusk', 'World', 'Dominion', 'Leap Frog Drum', 'Islands', 'Chewlian Venus', 'Boushh', 'Trunki', 'Central Street', 'Chewbacca', 'Bratzillaz', 'Straightaway', 'Rayven Nerf', 'Sword', 'Simba', 'Harmony', 'Talisman City', 'Pachisi', 'Hannah', 'Bar Mitzvah', 'Brawlin Buddies', 'Caterpilars', 'Busy Busy Airport', 'Nano', 'Ninja Training Outpost', 'Bespin', 'Galvatron', 'Figure Setrailway', 'The Big House', 'Canasta', 'theLEGO City Corner', 'Longfellow Unicorn', 'Great Quarry Climb', 'Hexbug', 'Barbie Townhouse', 'East', 'Community Homeschool Center', 'Rockin Elmo', 'Hulu', 'Rose Beautiful Hearth Kitchen', 'Bratz', 'Boardwalk Mediterranean', 'Barbie Fairytopia', 'Bermuda', 'Wakiki Beach', 'Playskool Busy Ball Popper', 'Darkseid', 'Picnic Island', 'Cityville', 'Melissa', 'Thomasland', 'Lilliput', 'Gothic City', 'Kindergarden', 'Sodor Rock Quarry', 'Anduin', 'Hyperflux Cannon', 'Wheeljack', 'Intex', 'Gotham City', 'Imaginext Rescue City Center', 'Fluttershy Sweetie Belle', 'Gund Crawl', 'Wizkids', 'Michaels', 'El Grande Tikal', 'Gigazord', 'Thomas Friends Clock', 'Yamatai', 'Amazon Swimways Speedo', 'North Central South', 'Surprize', 'Carolinas', 'Mommy Daddy', 'Normandy Northern', 'Berry', 'Uncle Goose', 'Desert Island', 'Chuggington Wooden', 'Pizza Mania', 'White House', 'Linkin Park', 'Tsutumo', 'Obamacare', 'Goomba', 'The First', 'MAX RUBY', 'Umizoomi', 'Neca', 'Riviera', 'Fairy Headmistresses', 'Klondike', 'Flower Garden Plant', 'Thomas Friends Sodor Friends', 'Flickies Island', 'Head Piece Puzzle', 'Bazoongi', 'Kidkraft Uptown Kitchen', 'Engardia', 'Morphix', 'IslandForbidden Island', 'Schwinn', 'Batmobile', 'USSR', 'Bird', 'Gymboree Ocean', 'Lauderdale', 'Aka', 'Jurrasic Park', 'Toysmith', 'Modern Kung Fu', 'Flintstone', 'Kitchen', 'Logging Locos', 'Magnadoodle', 'Boardwalk', 'Sneaky Snacky Squirrel', 'Kong', 'Floam', 'Faora', 'Playmobile', 'Nonna Nonno', 'Spooky', 'Bizu Basic Pack Glam', 'Hex Nano', 'Mobigos', 'Neushwanstein Castle', 'Umagine', 'Big Bird', 'Sulu', 'Caribbean Islands', 'Ranch', 'App Center', 'Candy Castle', 'Pizzeria', 'Mandroid', 'Mouska', 'Osaka', 'Krypt', 'Reddit', 'Go Tumble', 'Middle Village Queens', 'Hilton', 'Busy Ball Popper', 'Duplo', 'Fun Park', 'Deutsche Bahn', 'Sandtastik', 'Ashynn', 'Start Square', 'Hasbrotoyshop', 'Middle Earth', 'Ninjago City Star Wars', 'Barn', 'Neverland Pirates', 'MISC', 'Fushigi', 'Vampire Kingdom', 'Nativity', 'Empire Building', 'Batsignal', 'Unicron', 'Cape', 'Bevelle', 'Spectra', 'Aquadoodle', 'Griffon', 'Toybiz', 'Fraction', 'Soundwave Earth', 'St', 'Boardgamegeek', 'Nerf Arena', 'Hoth', 'West Side Island', 'Suburbia', 'Wooden Railway', 'Samuraizer', 'Wahoo', 'Robecca', 'Lego Minifigures', 'Stuntactular City', 'Nerath', 'Wild Planet', 'Republic', 'Whitecap', 'Sportz', 'Central', 'Vekta', 'Mancala', 'Boardwalk Park Pl', 'Monopoly City', 'Ball Zone', 'Kilimanjaro', 'Effel', 'Barbeque', 'Kidcraft', 'Asylum Antarctic Base Plateau', 'Cailou', 'Rumikub', 'Ghloulia', 'Babiesrus', 'Quelf Jr', 'Spock', 'Brundisi', 'Pig Castle', 'Squinkies', 'Bilibo', 'Pokeman', 'Castle Greyskull', 'East South', 'North Africa Southern Europe', 'Super Mario World', 'Toodles', 'Jacobs Field', 'Lionel', 'Lemonnade Stand', 'Grand Prix Islands Streets Arctic Jungle Volcano Desert', 'Hidden Palace Zone', 'Derpy', 'Bracelete', 'Kaprosuchus', 'Great Wall', 'Chicca', 'Sailwagon', 'Chippy', 'Queens', 'Warlock', 'Alamance', 'Mariposa County', 'Clickstart', 'Gandalf', 'Deema', 'Great Hall', 'Leia', 'Papo Collecta', 'Uno', 'Diwali', 'Roderigo', 'Chewbacca Angry Bird Star Wars', 'Playskool', 'Styracosaurus Parasaurolophus', 'Big Elmo', 'Sweet', 'Kozu', 'Papo', 'Plinko', 'Fort Knox', 'Antiguity', 'Spiel des Jahres', 'Jenga', 'Blaze', 'Spinjitsu', 'Psyduck', 'Himalayas', 'Capitol Neuschwanstein', 'Skelita', 'Gulf Coast', 'Tenzi', 'Ziploc', 'Magformers', 'Canterlot', 'Gollum', 'MaKayla', 'Cracker Barrel', 'Skelita Calaveras', 'Draculaura', 'LEGO Castle Dragon Mountain', 'Break', 'Clock', 'Times Square', 'Leap Pad', 'Epcot', 'Quoridor', 'Skwooshi', 'Waterdeep Pandemic Puerto'}, 'NATIONALITY': {'RUSSIAN', 'Indonesian', 'Swiss', 'afghan', 'English British', 'African american', 'Puerto Rican Mexican', 'French Spanish', 'German', 'british', 'English German Spanish', 'Aussie', 'Dutch', 'spanish', 'Czech', 'pole', 'English', 'Spanish English Chinese', 'English Spanish French', 'Carribean', 'African American', 'Vietnamese', 'German French Italian English', 'french', 'Canadian', 'greek', 'dutchman', 'ENGLISH', 'Italian American Russian French German', 'english spanish french', 'Mexican', 'European', 'Australian', 'Austrian', 'Iranian', 'Nigerian', 'Spanish English', 'english spanish', 'dutch', 'Japanese', 'american', 'english french', 'French', 'Pole', 'Thai', 'Swedish', 'Belgian', 'Chinese', 'Polish', 'French Indian African', 'SPANISH', 'swiss', 'indian', 'african american', 'mexican', 'English French Spanish', 'Russian', 'CHINESE', 'Spanish French German', 'French German Spanish Italian American', 'American English', 'german french japanese spanish', 'Dane', 'Kiwi', 'Mongolian', 'Spanish French', 'North Korean', 'italian', 'English French', 'African', 'Asian', 'Korean', 'Italian', 'Afghan', 'french English Spanish English', 'Turk', 'finn', 'Asian African European', 'Spanish', 'japanese', 'spanish english', 'Indian', 'Israeli', 'AFrican', 'english', 'Liberian', 'Irish', 'kiwi', 'Finn', 'German French', 'polish', 'British', 'Hungarian', 'ASIAN', 'jamaican', 'russian', 'Ethiopian', 'Egyptian', 'Scot', 'Scottish', 'AMerican', 'American', 'English Spanish', 'Palestinian Israeli', 'Finnish', 'chinese', 'Ozzie', 'Turkish', 'English Polish', 'asian', 'Korean Finnish', 'JAPANESE', 'Greek', 'Dutchman', 'Jamaican', 'AMERICAN', 'Brit', 'european', 'French English', 'german', 'Danish'}}\n"
          ],
          "name": "stdout"
        }
      ]
    }
  ]
}